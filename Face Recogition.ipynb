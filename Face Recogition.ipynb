{
 "cells": [
  {
   "cell_type": "code",
   "execution_count": 1,
   "metadata": {},
   "outputs": [],
   "source": [
    "import cv2\n",
    "import numpy as np\n",
    "import os"
   ]
  },
  {
   "cell_type": "code",
   "execution_count": 2,
   "metadata": {},
   "outputs": [],
   "source": [
    "def distance(x1,x2):\n",
    "    return np.sqrt(sum((x1-x2)**2))\n",
    "def knn(train,test,k=5):\n",
    "    dist=[]\n",
    "    for i in range(train.shape[0]):\n",
    "        ix=train[i,:-1]\n",
    "        iy=train[i,-1]\n",
    "        \n",
    "        d=distance(test,ix)\n",
    "        dist.append([d,iy])\n",
    "    dk=sorted(dist,key=lambda x: x[0])[:k]\n",
    "    \n",
    "    labels=np.array(dk)[:,-1]\n",
    "    \n",
    "    output=np.unique(labels,return_counts=True)\n",
    "    \n",
    "    index=np.argmax(output[1])\n",
    "    return output[0][index]"
   ]
  },
  {
   "cell_type": "code",
   "execution_count": 3,
   "metadata": {},
   "outputs": [],
   "source": [
    "cap=cv2.VideoCapture(0)"
   ]
  },
  {
   "cell_type": "code",
   "execution_count": 4,
   "metadata": {},
   "outputs": [],
   "source": [
    "face_cascade=cv2.CascadeClassifier('haarcascade_frontalface_alt.xml')\n",
    "\n",
    "skip=0\n",
    "\n",
    "face_data=[]\n",
    "labels=[]\n",
    "\n",
    "class_id=0\n",
    "names={}"
   ]
  },
  {
   "cell_type": "code",
   "execution_count": 5,
   "metadata": {},
   "outputs": [
    {
     "name": "stdout",
     "output_type": "stream",
     "text": [
      "Loaded Guddu mamma.npy\n",
      "(67, 10000)\n",
      "(67, 1)\n",
      "(67, 10001)\n"
     ]
    }
   ],
   "source": [
    "for fx in os.listdir():\n",
    "    if fx.endswith('.npy'):\n",
    "        names[class_id]=fx[:-4]\n",
    "        print('Loaded '+fx)\n",
    "        data_item=np.load(fx)\n",
    "        face_data.append(data_item)\n",
    "\n",
    "        target=class_id*np.ones((data_item.shape[0],))\n",
    "        class_id+=1\n",
    "        labels.append(target)\n",
    "face_dataset=np.concatenate(face_data,axis=0)\n",
    "face_labels=np.concatenate(labels,axis=0).reshape((-1,1))\n",
    "print(face_dataset.shape)\n",
    "print(face_labels.shape)\n",
    "\n",
    "trainset=np.concatenate((face_dataset,face_labels),axis=1)\n",
    "print(trainset.shape)"
   ]
  },
  {
   "cell_type": "code",
   "execution_count": 6,
   "metadata": {},
   "outputs": [],
   "source": [
    "while True:\n",
    "    ret, frame=cap.read()\n",
    "    if ret==False:\n",
    "        continue\n",
    "        \n",
    "    faces = face_cascade.detectMultiScale(frame,1.3,5)\n",
    "    if len(faces)==0:\n",
    "        continue\n",
    "    gray_frame=cv2.cvtColor(frame,cv2.COLOR_BGR2GRAY)\n",
    "    for face in faces:\n",
    "        x,y,w,h=face\n",
    "        \n",
    "        offset=10\n",
    "        face_section=gray_frame[y-offset:y+h+offset,x-offset:x+w+offset]\n",
    "        face_section=cv2.resize(face_section,(100,100))\n",
    "        \n",
    "        #print((face_section.shape))\n",
    "        out=knn(trainset,face_section.flatten())\n",
    "        \n",
    "        pred_name=names[int(out)]\n",
    "        cv2.putText(gray_frame,pred_name,(x,y-10),cv2.FONT_HERSHEY_SIMPLEX,1,(255,0,0),2,cv2.LINE_AA)\n",
    "        cv2.rectangle(gray_frame,(x,y),(x+w,y+h),(0,255,255),2)\n",
    "    cv2.imshow('Faces',gray_frame)\n",
    "    \n",
    "    key=cv2.waitKey(1) & 0xFF\n",
    "    if key==ord('q'):\n",
    "        break\n",
    "cap.release()\n",
    "cv2.destroyAllWindows()"
   ]
  },
  {
   "cell_type": "code",
   "execution_count": null,
   "metadata": {},
   "outputs": [],
   "source": []
  }
 ],
 "metadata": {
  "kernelspec": {
   "display_name": "Python 3",
   "language": "python",
   "name": "python3"
  },
  "language_info": {
   "codemirror_mode": {
    "name": "ipython",
    "version": 3
   },
   "file_extension": ".py",
   "mimetype": "text/x-python",
   "name": "python",
   "nbconvert_exporter": "python",
   "pygments_lexer": "ipython3",
   "version": "3.8.3"
  }
 },
 "nbformat": 4,
 "nbformat_minor": 4
}
